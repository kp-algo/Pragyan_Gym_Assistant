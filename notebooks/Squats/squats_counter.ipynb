{
 "cells": [
  {
   "cell_type": "code",
   "execution_count": 5,
   "metadata": {},
   "outputs": [],
   "source": [
    "import cv2\n",
    "import mediapipe as mp\n",
    "import numpy as np"
   ]
  },
  {
   "cell_type": "code",
   "execution_count": 6,
   "metadata": {},
   "outputs": [],
   "source": [
    "def calculate_angle(a, b, c):\n",
    "    a = np.array(a)  # First point\n",
    "    b = np.array(b)  # Mid point\n",
    "    c = np.array(c)  # End point\n",
    "    \n",
    "    radians = np.arctan2(c[1] - b[1], c[0] - b[0]) - np.arctan2(a[1] - b[1], a[0] - b[0])\n",
    "    angle = np.abs(radians * 180.0 / np.pi)\n",
    "    \n",
    "    if angle > 180.0:\n",
    "        angle = 360 - angle\n",
    "        \n",
    "    return angle"
   ]
  },
  {
   "cell_type": "code",
   "execution_count": null,
   "metadata": {},
   "outputs": [],
   "source": [
    "for ld in mp.solutions.pose.PoseLandmark:\n",
    "    print(ld.name)"
   ]
  },
  {
   "cell_type": "code",
   "execution_count": null,
   "metadata": {},
   "outputs": [
    {
     "name": "stdout",
     "output_type": "stream",
     "text": [
      "[([54.66668058091231, 59.595719445315574], [95.03274568894824, 91.08346462152144])]\n"
     ]
    }
   ],
   "source": [
    "mp_pose = mp.solutions.pose\n",
    "mp_drawing = mp.solutions.drawing_utils\n",
    "\n",
    "#ref img for final pos in squat\n",
    "img = cv2.imread(r\"C:\\Users\\Kartik\\Desktop\\Gym Assitant\\Sqauts\\squat_final.jpg\")\n",
    "\n",
    "#stores angles at final pos\n",
    "angles_down =[] \n",
    "\n",
    "with mp_pose.Pose(min_detection_confidence = 0.5, min_tracking_confidence = 0.5) as pose:\n",
    "    \n",
    "    #changes BGR -> RGB for mediapipe\n",
    "    img = cv2.cvtColor(img, cv2.COLOR_BGR2RGB)\n",
    "    img.flags.writeable = False\n",
    "\n",
    "    result = pose.process(img)\n",
    "\n",
    "    #changes RGB -> GBR for cv2\n",
    "    img = cv2.cvtColor(img, cv2.COLOR_RGB2BGR)\n",
    "    img.flags.writeable = True\n",
    "\n",
    "   \n",
    "    if result.pose_landmarks:\n",
    "\n",
    "         #marks the landmark \n",
    "        landmarks = result.pose_landmarks.landmark\n",
    "\n",
    "        #coord of the left side body parts\n",
    "        l_shoulder = [landmarks[mp_pose.PoseLandmark.LEFT_SHOULDER.value].x, landmarks[mp_pose.PoseLandmark.LEFT_SHOULDER.value].y]\n",
    "        l_hip = [landmarks[mp_pose.PoseLandmark.LEFT_HIP.value].x, landmarks[mp_pose.PoseLandmark.LEFT_HIP.value].y]\n",
    "        l_knee = [landmarks[mp_pose.PoseLandmark.LEFT_KNEE.value].x, landmarks[mp_pose.PoseLandmark.LEFT_KNEE.value].y]\n",
    "        l_ankel = [landmarks[mp_pose.PoseLandmark.LEFT_ANKLE.value].x, landmarks[mp_pose.PoseLandmark.LEFT_ANKLE.value].y]\n",
    "\n",
    "        #coord of the right side body parts\n",
    "        r_shoulder = [landmarks[mp_pose.PoseLandmark.RIGHT_SHOULDER.value].x, landmarks[mp_pose.PoseLandmark.RIGHT_SHOULDER.value].y]\n",
    "        r_hip = [landmarks[mp_pose.PoseLandmark.RIGHT_HIP.value].x, landmarks[mp_pose.PoseLandmark.RIGHT_HIP.value].y]\n",
    "        r_knee = [landmarks[mp_pose.PoseLandmark.RIGHT_KNEE.value].x, landmarks[mp_pose.PoseLandmark.RIGHT_KNEE.value].y]\n",
    "        r_ankel = [landmarks[mp_pose.PoseLandmark.RIGHT_ANKLE.value].x, landmarks[mp_pose.PoseLandmark.RIGHT_ANKLE.value].y]\n",
    "        \n",
    "        #angle made by hip-knee-shoulder at knee joint\n",
    "        l_knee_angle = calculate_angle(l_hip, l_knee, l_shoulder)\n",
    "        r_knee_angle = calculate_angle(r_hip, r_knee, r_shoulder)\n",
    "\n",
    "        #angle made by shoulder-hip-knee at hip joint\n",
    "        l_hip_angle = calculate_angle(l_shoulder, l_hip, l_knee)\n",
    "        r_hip_angle = calculate_angle(r_shoulder, r_hip, r_knee)\n",
    "\n",
    "        #storing angles\n",
    "        angles_down.append(([l_knee_angle, r_knee_angle], [l_hip_angle, r_hip_angle]))\n",
    "\n",
    "        #drawing landmarks on the pic\n",
    "        mp_drawing.draw_landmarks(img, result.pose_landmarks, mp_pose.POSE_CONNECTIONS,\n",
    "                                      mp_drawing.DrawingSpec(color=(245, 117, 66), thickness=2, circle_radius=2), \n",
    "                                      mp_drawing.DrawingSpec(color=(245, 66, 230), thickness=2, circle_radius=2))\n",
    "\n",
    "        # Shows img with landmark\n",
    "        cv2.imshow(\"Squats Down\", img)\n",
    "        cv2.waitKey(0)\n",
    "        \n",
    "\n",
    "cv2.destroyAllWindows()\n",
    "print(angles_down)"
   ]
  },
  {
   "cell_type": "code",
   "execution_count": null,
   "metadata": {},
   "outputs": [
    {
     "name": "stdout",
     "output_type": "stream",
     "text": [
      "[([2.885713170338925, 0.31385444050733596], [174.9452678641332, 179.4527614446527])]\n"
     ]
    }
   ],
   "source": [
    "mp_pose = mp.solutions.pose\n",
    "mp_drawing = mp.solutions.drawing_utils\n",
    "\n",
    "#ref image of the start pos in squat\n",
    "img = cv2.imread(r\"C:\\Users\\Kartik\\Desktop\\Gym Assitant\\Sqauts\\sqaut_up.jpg\")\n",
    "\n",
    "#stores angles at start pos\n",
    "angles_up =[] \n",
    "with mp_pose.Pose(min_detection_confidence = 0.5, min_tracking_confidence = 0.5) as pose:\n",
    "    \n",
    "    #converts BGR -> RGB for mediapipe\n",
    "    img = cv2.cvtColor(img, cv2.COLOR_BGR2RGB)\n",
    "    img.flags.writeable = False\n",
    "\n",
    "    result = pose.process(img)\n",
    "\n",
    "    #converts RGB -> BGR for cv2\n",
    "    img = cv2.cvtColor(img, cv2.COLOR_RGB2BGR)\n",
    "    img.flags.writeable = True\n",
    "\n",
    "    if result.pose_landmarks:\n",
    "        #identifies the landmark pos\n",
    "        landmarks = result.pose_landmarks.landmark\n",
    "\n",
    "        #left side body parts coord\n",
    "        l_shoulder = [landmarks[mp_pose.PoseLandmark.LEFT_SHOULDER.value].x, landmarks[mp_pose.PoseLandmark.LEFT_SHOULDER.value].y]\n",
    "        l_hip = [landmarks[mp_pose.PoseLandmark.LEFT_HIP.value].x, landmarks[mp_pose.PoseLandmark.LEFT_HIP.value].y]\n",
    "        l_knee = [landmarks[mp_pose.PoseLandmark.LEFT_KNEE.value].x, landmarks[mp_pose.PoseLandmark.LEFT_KNEE.value].y]\n",
    "        l_ankel = [landmarks[mp_pose.PoseLandmark.LEFT_ANKLE.value].x, landmarks[mp_pose.PoseLandmark.LEFT_ANKLE.value].y]\n",
    "\n",
    "        #right side body parts coord\n",
    "        r_shoulder = [landmarks[mp_pose.PoseLandmark.RIGHT_SHOULDER.value].x, landmarks[mp_pose.PoseLandmark.RIGHT_SHOULDER.value].y]\n",
    "        r_hip = [landmarks[mp_pose.PoseLandmark.RIGHT_HIP.value].x, landmarks[mp_pose.PoseLandmark.RIGHT_HIP.value].y]\n",
    "        r_knee = [landmarks[mp_pose.PoseLandmark.RIGHT_KNEE.value].x, landmarks[mp_pose.PoseLandmark.RIGHT_KNEE.value].y]\n",
    "        r_ankel = [landmarks[mp_pose.PoseLandmark.RIGHT_ANKLE.value].x, landmarks[mp_pose.PoseLandmark.RIGHT_ANKLE.value].y]\n",
    "        \n",
    "        #angle made by hip-knee-shoulder at knee joint\n",
    "        l_knee_angle = calculate_angle(l_hip, l_knee, l_shoulder)\n",
    "        r_knee_angle = calculate_angle(r_hip, r_knee, r_shoulder)\n",
    "\n",
    "        #angle made by shoulder-hip-knee at hip joint \n",
    "        l_hip_angle = calculate_angle(l_shoulder, l_hip, l_knee)\n",
    "        r_hip_angle = calculate_angle(r_shoulder, r_hip, r_knee)\n",
    "\n",
    "        #storing angles\n",
    "        angles_up.append(([l_knee_angle, r_knee_angle], [l_hip_angle, r_hip_angle]))\n",
    "\n",
    "        #marking landmark on the image \n",
    "        mp_drawing.draw_landmarks(img, result.pose_landmarks, mp_pose.POSE_CONNECTIONS,\n",
    "                                      mp_drawing.DrawingSpec(color=(245, 117, 66), thickness=2, circle_radius=2), \n",
    "                                      mp_drawing.DrawingSpec(color=(245, 66, 230), thickness=2, circle_radius=2))\n",
    "\n",
    "        # Shows img\n",
    "        cv2.imshow(\"Squats Up\", img)\n",
    "        cv2.waitKey(0)\n",
    "        \n",
    "\n",
    "cv2.destroyAllWindows()\n",
    "print(angles_up)"
   ]
  },
  {
   "cell_type": "code",
   "execution_count": null,
   "metadata": {},
   "outputs": [],
   "source": [
    "knee_angle_up = sum(angles_up[0][0])/len(angles_up[0][0])\n",
    "knee_angle_down = sum(angles_down[0][0])/len(angles_down[0][0])\n",
    "\n",
    "\n",
    "hip_angle_down = sum(angles_down[0][1])/len(angles_down[0][1])\n",
    "hip_angle_up = 170"
   ]
  },
  {
   "cell_type": "code",
   "execution_count": 31,
   "metadata": {},
   "outputs": [
    {
     "name": "stdout",
     "output_type": "stream",
     "text": [
      "1.5997838054231306 57.13120001311394\n",
      "93.05810515523484 177.19901465439295\n"
     ]
    }
   ],
   "source": [
    "print(knee_angle_up, knee_angle_down)\n",
    "print(hip_angle_down, hip_angle_up)\n"
   ]
  },
  {
   "cell_type": "code",
   "execution_count": 38,
   "metadata": {},
   "outputs": [
    {
     "name": "stdout",
     "output_type": "stream",
     "text": [
      "Reps: 1\n",
      "Reps: 2\n",
      "2\n"
     ]
    }
   ],
   "source": [
    "cap = cv2.VideoCapture(r\"C:\\Users\\Kartik\\Desktop\\Gym Assitant\\Sqauts\\squats_input.mp4\")\n",
    "\n",
    "# Push-up rep counter\n",
    "reps = 0\n",
    "position = \"start\"  # Start position\n",
    "\n",
    "frame_width = int(cap.get(3))\n",
    "frame_height = int(cap.get(4))\n",
    "fps = int(cap.get(cv2.CAP_PROP_FPS))\n",
    "\n",
    "fourcc = cv2.VideoWriter_fourcc(*'mp4v')  # Use 'mp4v' for MP4 format\n",
    "out = cv2.VideoWriter('output_video.mp4', fourcc, fps, (frame_width, frame_height))\n",
    "\n",
    "with mp_pose.Pose(min_detection_confidence=0.5, min_tracking_confidence=0.5) as pose:\n",
    "    while cap.isOpened():\n",
    "        ret, frame = cap.read()\n",
    "        if not ret:\n",
    "            break  # Exit loop if video ends\n",
    "\n",
    "        # Convert BGR to RGB for Mediapipe\n",
    "        image = cv2.cvtColor(frame, cv2.COLOR_BGR2RGB)\n",
    "        image.flags.writeable = False\n",
    "        results = pose.process(image)\n",
    "        image.flags.writeable = True\n",
    "        image = cv2.cvtColor(image, cv2.COLOR_RGB2BGR)  # Convert back to BGR for OpenCV\n",
    "\n",
    "        if results.pose_landmarks:\n",
    "            landmarks = results.pose_landmarks.landmark\n",
    "            \n",
    "            # Get joint coordinates\n",
    "        \n",
    "            l_shoulder = [landmarks[mp_pose.PoseLandmark.LEFT_SHOULDER.value].x, landmarks[mp_pose.PoseLandmark.LEFT_SHOULDER.value].y]\n",
    "            l_hip = [landmarks[mp_pose.PoseLandmark.LEFT_HIP.value].x, landmarks[mp_pose.PoseLandmark.LEFT_HIP.value].y]\n",
    "            l_knee = [landmarks[mp_pose.PoseLandmark.LEFT_KNEE.value].x, landmarks[mp_pose.PoseLandmark.LEFT_KNEE.value].y]\n",
    "            l_ankel = [landmarks[mp_pose.PoseLandmark.LEFT_ANKLE.value].x, landmarks[mp_pose.PoseLandmark.LEFT_ANKLE.value].y]\n",
    "\n",
    "            r_shoulder = [landmarks[mp_pose.PoseLandmark.RIGHT_SHOULDER.value].x, landmarks[mp_pose.PoseLandmark.RIGHT_SHOULDER.value].y]\n",
    "            r_hip = [landmarks[mp_pose.PoseLandmark.RIGHT_HIP.value].x, landmarks[mp_pose.PoseLandmark.RIGHT_HIP.value].y]\n",
    "            r_knee = [landmarks[mp_pose.PoseLandmark.RIGHT_KNEE.value].x, landmarks[mp_pose.PoseLandmark.RIGHT_KNEE.value].y]\n",
    "            r_ankel = [landmarks[mp_pose.PoseLandmark.RIGHT_ANKLE.value].x, landmarks[mp_pose.PoseLandmark.RIGHT_ANKLE.value].y]\n",
    "            \n",
    "            l_knee_angle = calculate_angle(l_hip, l_knee, l_shoulder)\n",
    "            r_knee_angle = calculate_angle(r_hip, r_knee, r_shoulder)\n",
    "\n",
    "            l_hip_angle = calculate_angle(l_shoulder, l_hip, l_knee)\n",
    "            r_hip_angle = calculate_angle(r_shoulder, r_hip, r_knee)\n",
    "\n",
    "            # Push-up rep detection logic\n",
    "            if (l_hip_angle + r_hip_angle)/2 <= hip_angle_down:  # Going down\n",
    "                position = \"final\"\n",
    "            if (l_hip_angle + r_hip_angle)/2 >= hip_angle_up and position == \"final\":  # Going up\n",
    "                reps += 1\n",
    "                position = \"start\"\n",
    "                print(f\"Reps: {reps}\")\n",
    "            \n",
    "            if (l_knee_angle + r_knee_angle)/2 >= knee_angle_down:\n",
    "                cv2.putText(image, \"Knees are protruding out\", (100,150), cv2.FONT_HERSHEY_SIMPLEX, 1, (0,255,0), 2)\n",
    "            else:\n",
    "                cv2.putText(image, \"Perfect Form\", (100,150), cv2.FONT_HERSHEY_SIMPLEX, 1, (0,255,0), 2)\n",
    "\n",
    "            # Displays rep and angle on video\n",
    "            cv2.putText(image, f\"Reps: {reps} || LHA: {l_hip_angle} || RHA: {r_hip_angle}  \", (50, 100), cv2.FONT_HERSHEY_SIMPLEX, 1, (0, 255, 0), 2)\n",
    "\n",
    "            # Draw pose landmarks\n",
    "            mp_drawing.draw_landmarks(image, results.pose_landmarks, mp_pose.POSE_CONNECTIONS,\n",
    "                                      mp_drawing.DrawingSpec(color=(245, 117, 66), thickness=2, circle_radius=2), \n",
    "                                      mp_drawing.DrawingSpec(color=(245, 66, 230), thickness=2, circle_radius=2))\n",
    "\n",
    "        # Show video\n",
    "        cv2.imshow(\"Squats Counter\", image)\n",
    "        out.write(image)  # Save the processed frame\n",
    "\n",
    "        if cv2.waitKey(10) & 0xFF == ord('x'):  # Press 'x' to exit\n",
    "            break\n",
    "\n",
    "cap.release()\n",
    "out.release()\n",
    "cv2.destroyAllWindows()\n",
    "print(reps)"
   ]
  },
  {
   "cell_type": "code",
   "execution_count": null,
   "metadata": {},
   "outputs": [],
   "source": []
  }
 ],
 "metadata": {
  "kernelspec": {
   "display_name": "Python 3",
   "language": "python",
   "name": "python3"
  },
  "language_info": {
   "codemirror_mode": {
    "name": "ipython",
    "version": 3
   },
   "file_extension": ".py",
   "mimetype": "text/x-python",
   "name": "python",
   "nbconvert_exporter": "python",
   "pygments_lexer": "ipython3",
   "version": "3.12.4"
  }
 },
 "nbformat": 4,
 "nbformat_minor": 2
}
